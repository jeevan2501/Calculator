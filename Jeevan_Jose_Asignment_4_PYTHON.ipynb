{
 "cells": [
  {
   "cell_type": "code",
   "execution_count": 1,
   "id": "3cc78ca0-840f-40cc-a43e-7b7633db33b1",
   "metadata": {
    "scrolled": true
   },
   "outputs": [
    {
     "name": "stdin",
     "output_type": "stream",
     "text": [
      "Enter Password Jeevan123\n",
      "Incorrect Password.Try Again JeevanJose123\n",
      "Incorrect Password.Try Again admin123\n"
     ]
    },
    {
     "name": "stdout",
     "output_type": "stream",
     "text": [
      "Access Granted\n"
     ]
    }
   ],
   "source": [
    "password = input(\"Enter Password\")\n",
    "while password != \"admin123\":\n",
    "    password = input(\"Incorrect Password.Try Again\")\n",
    "print(\"Access Granted\")"
   ]
  },
  {
   "cell_type": "code",
   "execution_count": 2,
   "id": "733fdb38-91c3-4444-af75-07555a7ef9a9",
   "metadata": {},
   "outputs": [
    {
     "name": "stdin",
     "output_type": "stream",
     "text": [
      "Enter Username jeevan\n",
      "Enter Password jeevan123\n"
     ]
    },
    {
     "name": "stdout",
     "output_type": "stream",
     "text": [
      "Incorrect username and password.Try Again\n"
     ]
    },
    {
     "name": "stdin",
     "output_type": "stream",
     "text": [
      "Enter Username jeevanjose123\n",
      "Enter Password jeevan@123\n"
     ]
    },
    {
     "name": "stdout",
     "output_type": "stream",
     "text": [
      "Incorrect username and password.Try Again\n"
     ]
    },
    {
     "name": "stdin",
     "output_type": "stream",
     "text": [
      "Enter Username Jeevanjsoe233\n",
      "Enter Password jeeban1223\n"
     ]
    },
    {
     "name": "stdout",
     "output_type": "stream",
     "text": [
      "Incorrect username and password.Try Again\n",
      "Account Blocked\n"
     ]
    }
   ],
   "source": [
    "correct_username =\"admin\"\n",
    "correct_password =\"admin123\"\n",
    "attempt = 0\n",
    "while attempt <3:\n",
    "    username = input(\"Enter Username\")\n",
    "    password = input(\"Enter Password\")\n",
    "    if username == correct_username and password == correct_password:\n",
    "        print(\"Access Granted\")\n",
    "        break\n",
    "    else:\n",
    "        print(\"Incorrect username and password.Try Again\")\n",
    "        attempt +=1\n",
    "if attempt ==3:\n",
    "    print(\"Account Blocked\")"
   ]
  },
  {
   "cell_type": "code",
   "execution_count": 3,
   "id": "dd7cdf02-8cd2-482a-9220-7b5e933e6e03",
   "metadata": {},
   "outputs": [
    {
     "name": "stdin",
     "output_type": "stream",
     "text": [
      "Enter a number:  123456\n"
     ]
    },
    {
     "name": "stdout",
     "output_type": "stream",
     "text": [
      "Number of digits: 6\n"
     ]
    }
   ],
   "source": [
    "number = int(input(\"Enter a number: \"))\n",
    "count = 0\n",
    "\n",
    "if number == 0:\n",
    "    count = 1\n",
    "else:\n",
    "    while number != 0:\n",
    "        number = number // 10\n",
    "        count += 1\n",
    "\n",
    "print(\"Number of digits:\", count)\n"
   ]
  }
 ],
 "metadata": {
  "kernelspec": {
   "display_name": "Python [conda env:base] *",
   "language": "python",
   "name": "conda-base-py"
  },
  "language_info": {
   "codemirror_mode": {
    "name": "ipython",
    "version": 3
   },
   "file_extension": ".py",
   "mimetype": "text/x-python",
   "name": "python",
   "nbconvert_exporter": "python",
   "pygments_lexer": "ipython3",
   "version": "3.12.7"
  }
 },
 "nbformat": 4,
 "nbformat_minor": 5
}
