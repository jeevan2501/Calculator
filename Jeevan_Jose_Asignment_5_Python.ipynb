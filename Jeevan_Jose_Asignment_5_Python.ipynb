{
 "cells": [
  {
   "cell_type": "code",
   "execution_count": 8,
   "id": "541d77c0",
   "metadata": {},
   "outputs": [],
   "source": [
    "#Question 1"
   ]
  },
  {
   "cell_type": "code",
   "execution_count": 1,
   "id": "48570e10-31b9-4bbd-8f3f-1b12b386a910",
   "metadata": {},
   "outputs": [],
   "source": [
    "employees = {\n",
    "    \"Alice\": 6000,\n",
    "    \"Bob\": 4500,\n",
    "    \"Charlie\": 7000,\n",
    "    \"David\": 5000,\n",
    "    \"Eva\": 8000\n",
    "}"
   ]
  },
  {
   "cell_type": "code",
   "execution_count": 2,
   "id": "dac3ff50",
   "metadata": {},
   "outputs": [
    {
     "data": {
      "text/plain": [
       "{'Alice': 6000, 'Bob': 4500, 'Charlie': 7000, 'David': 5000, 'Eva': 8000}"
      ]
     },
     "execution_count": 2,
     "metadata": {},
     "output_type": "execute_result"
    }
   ],
   "source": [
    "employees"
   ]
  },
  {
   "cell_type": "code",
   "execution_count": 3,
   "id": "15f45353",
   "metadata": {},
   "outputs": [
    {
     "name": "stdout",
     "output_type": "stream",
     "text": [
      "Highest salary: 8000\n"
     ]
    }
   ],
   "source": [
    "highest_salary = max(employees.values())\n",
    "print(\"Highest salary:\", highest_salary)"
   ]
  },
  {
   "cell_type": "code",
   "execution_count": 4,
   "id": "a968b2c9",
   "metadata": {},
   "outputs": [
    {
     "name": "stdout",
     "output_type": "stream",
     "text": [
      "Average salary: 6100.0\n"
     ]
    }
   ],
   "source": [
    "average_salary = sum(employees.values()) / len(employees)\n",
    "print(\"Average salary:\", average_salary)"
   ]
  },
  {
   "cell_type": "code",
   "execution_count": 6,
   "id": "d94f1f63",
   "metadata": {},
   "outputs": [
    {
     "name": "stdout",
     "output_type": "stream",
     "text": [
      "Employees earning more than ₹5000: ['Alice', 'Charlie', 'Eva']\n"
     ]
    }
   ],
   "source": [
    "threshold = 5000\n",
    "above_threshold = [name for name, salary in employees.items() if salary > threshold]\n",
    "print(\"Employees earning more than ₹5000:\", above_threshold)\n"
   ]
  },
  {
   "cell_type": "code",
   "execution_count": 7,
   "id": "b4155c44",
   "metadata": {},
   "outputs": [
    {
     "name": "stdout",
     "output_type": "stream",
     "text": [
      "Employee names in alphabetical order: ['Alice', 'Bob', 'Charlie', 'David', 'Eva']\n"
     ]
    }
   ],
   "source": [
    "sorted_names = sorted(employees.keys())\n",
    "print(\"Employee names in alphabetical order:\", sorted_names)"
   ]
  },
  {
   "cell_type": "code",
   "execution_count": 10,
   "id": "5fc42da1",
   "metadata": {},
   "outputs": [],
   "source": [
    "#Question 2"
   ]
  },
  {
   "cell_type": "code",
   "execution_count": 11,
   "id": "1e6e1987",
   "metadata": {},
   "outputs": [],
   "source": [
    "employees = {\n",
    "    \"Alice\": {\"salary\": 6000, \"age\": 28},\n",
    "    \"Bob\": {\"salary\": 4500, \"age\": 34},\n",
    "    \"Charlie\": {\"salary\": 7000, \"age\": 26},\n",
    "    \"David\": {\"salary\": 5000, \"age\": 31},\n",
    "    \"Eva\": {\"salary\": 8000, \"age\": 29}\n",
    "}\n"
   ]
  },
  {
   "cell_type": "code",
   "execution_count": 12,
   "id": "31d866ef",
   "metadata": {},
   "outputs": [
    {
     "name": "stdout",
     "output_type": "stream",
     "text": [
      "Oldest employee: Bob Age: 34\n"
     ]
    }
   ],
   "source": [
    "oldest = max(employees.items(), key=lambda item: item[1][\"age\"])\n",
    "print(\"Oldest employee:\", oldest[0], \"Age:\", oldest[1][\"age\"])"
   ]
  },
  {
   "cell_type": "code",
   "execution_count": 13,
   "id": "65272939",
   "metadata": {},
   "outputs": [
    {
     "name": "stdout",
     "output_type": "stream",
     "text": [
      "Average age: 29.6\n"
     ]
    }
   ],
   "source": [
    "total_age = sum(info[\"age\"] for info in employees.values())\n",
    "average_age = total_age / len(employees)\n",
    "print(\"Average age:\", average_age)\n"
   ]
  },
  {
   "cell_type": "code",
   "execution_count": 15,
   "id": "910eb962",
   "metadata": {},
   "outputs": [],
   "source": [
    "young_employees = [(name, info[\"age\"]) for name, info in employees.items() if info[\"age\"] < 30]\n"
   ]
  },
  {
   "cell_type": "code",
   "execution_count": 16,
   "id": "c312cc47",
   "metadata": {},
   "outputs": [
    {
     "name": "stdout",
     "output_type": "stream",
     "text": [
      "Employees younger than 30 (sorted by age):\n",
      "Charlie - 26\n",
      "Alice - 28\n",
      "Eva - 29\n"
     ]
    }
   ],
   "source": [
    "young_employees_sorted = sorted(young_employees, key=lambda x: x[1])\n",
    "print(\"Employees younger than 30 (sorted by age):\")\n",
    "for name, age in young_employees_sorted:\n",
    "    print(name, \"-\", age)"
   ]
  },
  {
   "cell_type": "code",
   "execution_count": 1,
   "id": "74ba1e04",
   "metadata": {},
   "outputs": [],
   "source": [
    "employees = {\n",
    "    \"Alice\": {\"salary\": 6000, \"age\": 28, \"rating\": 9},\n",
    "    \"Bob\": {\"salary\": 4500, \"age\": 35, \"rating\": 7},\n",
    "    \"Charlie\": {\"salary\": 7000, \"age\": 32, \"rating\": 10},\n",
    "    \"David\": {\"salary\": 5000, \"age\": 26, \"rating\": 6},\n",
    "    \"Eva\": {\"salary\": 8000, \"age\": 24, \"rating\": 9}\n",
    "}\n"
   ]
  },
  {
   "cell_type": "code",
   "execution_count": 2,
   "id": "39b2de01",
   "metadata": {},
   "outputs": [
    {
     "data": {
      "text/plain": [
       "{'Alice': {'salary': 6000, 'age': 28, 'rating': 9},\n",
       " 'Bob': {'salary': 4500, 'age': 35, 'rating': 7},\n",
       " 'Charlie': {'salary': 7000, 'age': 32, 'rating': 10},\n",
       " 'David': {'salary': 5000, 'age': 26, 'rating': 6},\n",
       " 'Eva': {'salary': 8000, 'age': 24, 'rating': 9}}"
      ]
     },
     "execution_count": 2,
     "metadata": {},
     "output_type": "execute_result"
    }
   ],
   "source": [
    "employees"
   ]
  },
  {
   "cell_type": "code",
   "execution_count": 3,
   "id": "7f3494c0",
   "metadata": {},
   "outputs": [
    {
     "name": "stdout",
     "output_type": "stream",
     "text": [
      "Highest Rating: 10\n",
      "Top Rated Employees: ['Charlie']\n"
     ]
    }
   ],
   "source": [
    "max_rating = max(emp[\"rating\"] for emp in employees.values())\n",
    "top_rated = [name for name, emp in employees.items() if emp[\"rating\"] == max_rating]\n",
    "print(\"Highest Rating:\", max_rating)\n",
    "print(\"Top Rated Employees:\", top_rated)"
   ]
  },
  {
   "cell_type": "code",
   "execution_count": 4,
   "id": "c5ba10be",
   "metadata": {},
   "outputs": [
    {
     "name": "stdout",
     "output_type": "stream",
     "text": [
      "Average Rating: 8.2\n"
     ]
    }
   ],
   "source": [
    "avg_rating = sum(emp[\"rating\"] for emp in employees.values()) / len(employees)\n",
    "print(\"Average Rating:\", avg_rating)\n"
   ]
  },
  {
   "cell_type": "code",
   "execution_count": 5,
   "id": "06f24770",
   "metadata": {},
   "outputs": [
    {
     "name": "stdout",
     "output_type": "stream",
     "text": [
      "Employees with rating > 8: ['Alice', 'Charlie', 'Eva']\n"
     ]
    }
   ],
   "source": [
    "high_perf = [name for name, emp in employees.items() if emp[\"rating\"] > 8]\n",
    "print(\"Employees with rating > 8:\", high_perf)"
   ]
  },
  {
   "cell_type": "code",
   "execution_count": 6,
   "id": "946b148f",
   "metadata": {},
   "outputs": [
    {
     "name": "stdout",
     "output_type": "stream",
     "text": [
      "Employees sorted by rating (high to low):\n",
      "Charlie -> 10\n",
      "Alice -> 9\n",
      "Eva -> 9\n",
      "Bob -> 7\n",
      "David -> 6\n"
     ]
    }
   ],
   "source": [
    "sorted_by_rating = sorted(employees.items(), key=lambda item: item[1][\"rating\"], reverse=True)\n",
    "print(\"Employees sorted by rating (high to low):\")\n",
    "for name, data in sorted_by_rating:\n",
    "    print(name, \"->\", data[\"rating\"])"
   ]
  },
  {
   "cell_type": "code",
   "execution_count": 7,
   "id": "b78b00b7",
   "metadata": {},
   "outputs": [],
   "source": [
    "for emp in employees.values():\n",
    "    emp[\"bonus\"] = emp[\"salary\"] * 0.10"
   ]
  },
  {
   "cell_type": "code",
   "execution_count": 8,
   "id": "dffc4136",
   "metadata": {},
   "outputs": [
    {
     "name": "stdout",
     "output_type": "stream",
     "text": [
      "Employees eligible for bonus:\n",
      "Alice -> 600.0\n",
      "Bob -> 450.0\n",
      "Charlie -> 700.0\n",
      "David -> 500.0\n",
      "Eva -> 800.0\n"
     ]
    }
   ],
   "source": [
    "eligible_bonus = {name: emp[\"bonus\"] for name, emp in employees.items() if emp[\"rating\"] > 5}\n",
    "print(\"Employees eligible for bonus:\")\n",
    "for name, bonus in eligible_bonus.items():\n",
    "    print(name, \"->\", bonus)\n"
   ]
  },
  {
   "cell_type": "code",
   "execution_count": 9,
   "id": "e78e7879",
   "metadata": {},
   "outputs": [
    {
     "name": "stdout",
     "output_type": "stream",
     "text": [
      "Employees sorted by bonus amount:\n",
      "Eva -> 800.0\n",
      "Charlie -> 700.0\n",
      "Alice -> 600.0\n",
      "David -> 500.0\n",
      "Bob -> 450.0\n"
     ]
    }
   ],
   "source": [
    "sorted_bonus = sorted(eligible_bonus.items(), key=lambda item: item[1], reverse=True)\n",
    "print(\"Employees sorted by bonus amount:\")\n",
    "for name, bonus in sorted_bonus:\n",
    "    print(name, \"->\", bonus)"
   ]
  },
  {
   "cell_type": "code",
   "execution_count": 10,
   "id": "4467fdcd",
   "metadata": {},
   "outputs": [],
   "source": [
    "scores = [95, 85, 76, 92, 88, 67, 81, 100]"
   ]
  },
  {
   "cell_type": "code",
   "execution_count": 11,
   "id": "e164d952",
   "metadata": {},
   "outputs": [
    {
     "name": "stdout",
     "output_type": "stream",
     "text": [
      "Highest Score: 100\n"
     ]
    }
   ],
   "source": [
    "highest_score = max(scores)\n",
    "print(\"Highest Score:\", highest_score)"
   ]
  },
  {
   "cell_type": "code",
   "execution_count": 12,
   "id": "572e6ff1",
   "metadata": {},
   "outputs": [
    {
     "name": "stdout",
     "output_type": "stream",
     "text": [
      "Average Score: 85.5\n"
     ]
    }
   ],
   "source": [
    "average_score = sum(scores) / len(scores)\n",
    "print(\"Average Score:\", average_score)"
   ]
  },
  {
   "cell_type": "code",
   "execution_count": 13,
   "id": "d0196584",
   "metadata": {},
   "outputs": [
    {
     "name": "stdout",
     "output_type": "stream",
     "text": [
      "Scores above 80: [95, 85, 92, 88, 81, 100]\n"
     ]
    }
   ],
   "source": [
    "above_80 = [score for score in scores if score > 80]\n",
    "print(\"Scores above 80:\", above_80)"
   ]
  },
  {
   "cell_type": "code",
   "execution_count": 14,
   "id": "46c649ad",
   "metadata": {},
   "outputs": [
    {
     "name": "stdout",
     "output_type": "stream",
     "text": [
      "Sorted Scores: [67, 76, 81, 85, 88, 92, 95, 100]\n"
     ]
    }
   ],
   "source": [
    "sorted_scores = sorted(scores)\n",
    "print(\"Sorted Scores:\", sorted_scores)"
   ]
  },
  {
   "cell_type": "code",
   "execution_count": 15,
   "id": "2418f0ec",
   "metadata": {},
   "outputs": [],
   "source": [
    "numbers = list(range(1, 11))"
   ]
  },
  {
   "cell_type": "code",
   "execution_count": 16,
   "id": "d39a4664",
   "metadata": {},
   "outputs": [
    {
     "data": {
      "text/plain": [
       "[1, 2, 3, 4, 5, 6, 7, 8, 9, 10]"
      ]
     },
     "execution_count": 16,
     "metadata": {},
     "output_type": "execute_result"
    }
   ],
   "source": [
    "numbers"
   ]
  },
  {
   "cell_type": "code",
   "execution_count": 17,
   "id": "864565fe",
   "metadata": {},
   "outputs": [
    {
     "name": "stdout",
     "output_type": "stream",
     "text": [
      "Squares: [1, 4, 9, 16, 25, 36, 49, 64, 81, 100]\n",
      "Cubes: [1, 8, 27, 64, 125, 216, 343, 512, 729, 1000]\n"
     ]
    }
   ],
   "source": [
    "squares = [x**2 for x in numbers]\n",
    "cubes = [x**3 for x in numbers]\n",
    "\n",
    "print(\"Squares:\", squares)\n",
    "print(\"Cubes:\", cubes)\n"
   ]
  },
  {
   "cell_type": "code",
   "execution_count": 18,
   "id": "88260c13",
   "metadata": {},
   "outputs": [],
   "source": [
    "original = [10, -4, 0, 23, -9, 5, -1]\n"
   ]
  },
  {
   "cell_type": "code",
   "execution_count": 19,
   "id": "0b144cd3",
   "metadata": {},
   "outputs": [
    {
     "data": {
      "text/plain": [
       "[10, -4, 0, 23, -9, 5, -1]"
      ]
     },
     "execution_count": 19,
     "metadata": {},
     "output_type": "execute_result"
    }
   ],
   "source": [
    "original"
   ]
  },
  {
   "cell_type": "code",
   "execution_count": 20,
   "id": "feea5af6",
   "metadata": {},
   "outputs": [
    {
     "name": "stdout",
     "output_type": "stream",
     "text": [
      "Positive Numbers: [10, 23, 5]\n"
     ]
    }
   ],
   "source": [
    "positives = [num for num in original if num > 0]\n",
    "print(\"Positive Numbers:\", positives)"
   ]
  },
  {
   "cell_type": "code",
   "execution_count": 21,
   "id": "c8a6a6a1",
   "metadata": {},
   "outputs": [],
   "source": [
    "students = [\"Zara\", \"Amit\", \"John\", \"Ben\", \"Meera\"]"
   ]
  },
  {
   "cell_type": "code",
   "execution_count": 22,
   "id": "0a3f1bde",
   "metadata": {},
   "outputs": [
    {
     "data": {
      "text/plain": [
       "['Zara', 'Amit', 'John', 'Ben', 'Meera']"
      ]
     },
     "execution_count": 22,
     "metadata": {},
     "output_type": "execute_result"
    }
   ],
   "source": [
    "students"
   ]
  },
  {
   "cell_type": "code",
   "execution_count": 23,
   "id": "dbe38683",
   "metadata": {},
   "outputs": [
    {
     "name": "stdout",
     "output_type": "stream",
     "text": [
      "Sorted Names: ['Amit', 'Ben', 'John', 'Meera', 'Zara']\n"
     ]
    }
   ],
   "source": [
    "sorted_students = sorted(students)\n",
    "print(\"Sorted Names:\", sorted_students)"
   ]
  },
  {
   "cell_type": "code",
   "execution_count": 24,
   "id": "20f10d16",
   "metadata": {},
   "outputs": [],
   "source": [
    "cs_students = {\"Alice\", \"Bob\", \"Charlie\"}\n",
    "math_students = {\"David\", \"Eva\"}"
   ]
  },
  {
   "cell_type": "code",
   "execution_count": 25,
   "id": "f50b9aab",
   "metadata": {},
   "outputs": [
    {
     "name": "stdout",
     "output_type": "stream",
     "text": [
      "After update: {'Eva', 'Charlie', 'David', 'Bob', 'Alice'}\n"
     ]
    }
   ],
   "source": [
    "cs_students.update(math_students)\n",
    "print(\"After update:\", cs_students)"
   ]
  },
  {
   "cell_type": "code",
   "execution_count": 26,
   "id": "18af5fe5",
   "metadata": {},
   "outputs": [
    {
     "name": "stdout",
     "output_type": "stream",
     "text": [
      "Copy of set: {'Eva', 'Charlie', 'David', 'Bob', 'Alice'}\n"
     ]
    }
   ],
   "source": [
    "cs_copy = cs_students.copy()\n",
    "print(\"Copy of set:\", cs_copy)"
   ]
  },
  {
   "cell_type": "code",
   "execution_count": 27,
   "id": "6bf20349",
   "metadata": {},
   "outputs": [
    {
     "name": "stdout",
     "output_type": "stream",
     "text": [
      "After adding Frank: {'Eva', 'Charlie', 'David', 'Bob', 'Alice', 'Frank'}\n"
     ]
    }
   ],
   "source": [
    "cs_students.add(\"Frank\")\n",
    "print(\"After adding Frank:\", cs_students)\n"
   ]
  },
  {
   "cell_type": "code",
   "execution_count": 28,
   "id": "67dad664",
   "metadata": {},
   "outputs": [
    {
     "name": "stdout",
     "output_type": "stream",
     "text": [
      "After discarding David: {'Eva', 'Charlie', 'Bob', 'Alice', 'Frank'}\n"
     ]
    }
   ],
   "source": [
    "cs_students.discard(\"David\")  # Use discard to avoid error\n",
    "print(\"After discarding David:\", cs_students)\n"
   ]
  },
  {
   "cell_type": "code",
   "execution_count": 29,
   "id": "d766af7a",
   "metadata": {},
   "outputs": [
    {
     "name": "stdout",
     "output_type": "stream",
     "text": [
      "After discarding George: {'Eva', 'Charlie', 'Bob', 'Alice', 'Frank'}\n"
     ]
    }
   ],
   "source": [
    "cs_students.discard(\"George\")  # No error if George not in set\n",
    "print(\"After discarding George:\", cs_students)\n"
   ]
  },
  {
   "cell_type": "code",
   "execution_count": 30,
   "id": "ca89b87d",
   "metadata": {},
   "outputs": [
    {
     "name": "stdout",
     "output_type": "stream",
     "text": [
      "After clearing: set()\n"
     ]
    }
   ],
   "source": [
    "cs_students.clear()\n",
    "print(\"After clearing:\", cs_students)"
   ]
  },
  {
   "cell_type": "code",
   "execution_count": 31,
   "id": "1da09205",
   "metadata": {},
   "outputs": [],
   "source": [
    "activities = {\"John\", \"Alice\", \"Ben\"}\n",
    "robotics = {\"Daisy\", \"Tom\"}\n",
    "chess_left = {\"Alice\", \"Michael\"}\n"
   ]
  },
  {
   "cell_type": "code",
   "execution_count": 32,
   "id": "a724242f",
   "metadata": {},
   "outputs": [
    {
     "name": "stdout",
     "output_type": "stream",
     "text": [
      "After adding robotics: {'Ben', 'Daisy', 'John', 'Tom', 'Alice'}\n"
     ]
    }
   ],
   "source": [
    "activities.update(robotics)\n",
    "print(\"After adding robotics:\", activities)"
   ]
  },
  {
   "cell_type": "code",
   "execution_count": 33,
   "id": "fcc663e9",
   "metadata": {},
   "outputs": [
    {
     "name": "stdout",
     "output_type": "stream",
     "text": [
      "After removing chess leavers: {'Ben', 'Daisy', 'John', 'Tom'}\n"
     ]
    }
   ],
   "source": [
    "for student in chess_left:\n",
    "    activities.discard(student)\n",
    "print(\"After removing chess leavers:\", activities)"
   ]
  },
  {
   "cell_type": "code",
   "execution_count": 34,
   "id": "4aa167d5",
   "metadata": {},
   "outputs": [
    {
     "name": "stdout",
     "output_type": "stream",
     "text": [
      "Activity copy: {'Ben', 'Tom', 'Daisy', 'John'}\n"
     ]
    }
   ],
   "source": [
    "activity_copy = activities.copy()\n",
    "print(\"Activity copy:\", activity_copy)"
   ]
  },
  {
   "cell_type": "code",
   "execution_count": 35,
   "id": "6d9cb56d",
   "metadata": {},
   "outputs": [
    {
     "name": "stdout",
     "output_type": "stream",
     "text": [
      "Popped student: Ben\n"
     ]
    }
   ],
   "source": [
    "if activities:\n",
    "    popped_student = activities.pop()\n",
    "    print(\"Popped student:\", popped_student)\n",
    "else:\n",
    "    print(\"Set is empty, cannot pop.\")\n"
   ]
  },
  {
   "cell_type": "code",
   "execution_count": 36,
   "id": "0b200dce",
   "metadata": {},
   "outputs": [
    {
     "name": "stdout",
     "output_type": "stream",
     "text": [
      "After clearing: set()\n"
     ]
    }
   ],
   "source": [
    "activities.clear()\n",
    "print(\"After clearing:\", activities)"
   ]
  },
  {
   "cell_type": "code",
   "execution_count": 37,
   "id": "0c2fd2b2",
   "metadata": {},
   "outputs": [],
   "source": [
    "cs_students = {\"Alice\", \"Bob\", \"Charlie\", \"David\"}\n",
    "activity_students = {\"Charlie\", \"David\", \"Eva\", \"Frank\"}"
   ]
  },
  {
   "cell_type": "code",
   "execution_count": 38,
   "id": "6a556f8b",
   "metadata": {},
   "outputs": [
    {
     "name": "stdout",
     "output_type": "stream",
     "text": [
      "Students in both CS and Activities: {'David', 'Charlie'}\n"
     ]
    }
   ],
   "source": [
    "both = cs_students & activity_students\n",
    "print(\"Students in both CS and Activities:\", both)\n"
   ]
  },
  {
   "cell_type": "code",
   "execution_count": 39,
   "id": "47a0bdde",
   "metadata": {},
   "outputs": [
    {
     "name": "stdout",
     "output_type": "stream",
     "text": [
      "Only in CS: {'Bob', 'Alice'}\n"
     ]
    }
   ],
   "source": [
    "only_cs = cs_students - activity_students\n",
    "print(\"Only in CS:\", only_cs)"
   ]
  },
  {
   "cell_type": "code",
   "execution_count": 40,
   "id": "e137820c",
   "metadata": {},
   "outputs": [
    {
     "name": "stdout",
     "output_type": "stream",
     "text": [
      "Only in Activities: {'Eva', 'Frank'}\n"
     ]
    }
   ],
   "source": [
    "only_activity = activity_students - cs_students\n",
    "print(\"Only in Activities:\", only_activity)"
   ]
  },
  {
   "cell_type": "code",
   "execution_count": 41,
   "id": "993009e2",
   "metadata": {},
   "outputs": [],
   "source": [
    "cs_students = {\"Alice\", \"Bob\", \"Charlie\", \"David\"}\n",
    "prereq_students = {\"Bob\", \"Charlie\", \"Eva\"}\n"
   ]
  },
  {
   "cell_type": "code",
   "execution_count": 42,
   "id": "628e36ac",
   "metadata": {},
   "outputs": [
    {
     "name": "stdout",
     "output_type": "stream",
     "text": [
      "Enrolled in both CS and Prerequisite: {'Bob', 'Charlie'}\n"
     ]
    }
   ],
   "source": [
    "both = cs_students & prereq_students\n",
    "print(\"Enrolled in both CS and Prerequisite:\", both)"
   ]
  },
  {
   "cell_type": "code",
   "execution_count": 43,
   "id": "6e7468de",
   "metadata": {},
   "outputs": [
    {
     "name": "stdout",
     "output_type": "stream",
     "text": [
      "Only in Prerequisite: {'Eva'}\n"
     ]
    }
   ],
   "source": [
    "only_prereq = prereq_students - cs_students\n",
    "print(\"Only in Prerequisite:\", only_prereq)"
   ]
  },
  {
   "cell_type": "code",
   "execution_count": 44,
   "id": "07efcec1",
   "metadata": {},
   "outputs": [],
   "source": [
    "course = (\"CS101\", [\"Alice\", \"Bob\", \"Charlie\"], [85, 90, 78])"
   ]
  },
  {
   "cell_type": "code",
   "execution_count": 45,
   "id": "35644aa0",
   "metadata": {},
   "outputs": [
    {
     "name": "stdout",
     "output_type": "stream",
     "text": [
      "Course ID: CS101\n",
      "Students: ['Alice', 'Bob', 'Charlie']\n",
      "Grades: [85, 90, 78]\n"
     ]
    }
   ],
   "source": [
    "print(\"Course ID:\", course[0])\n",
    "print(\"Students:\", course[1])\n",
    "print(\"Grades:\", course[2])\n"
   ]
  },
  {
   "cell_type": "code",
   "execution_count": 46,
   "id": "bed1f4b5",
   "metadata": {},
   "outputs": [
    {
     "name": "stdout",
     "output_type": "stream",
     "text": [
      "Average Grade: 84.33333333333333\n"
     ]
    }
   ],
   "source": [
    "avg_grade = sum(course[2]) / len(course[2])\n",
    "print(\"Average Grade:\", avg_grade)"
   ]
  },
  {
   "cell_type": "code",
   "execution_count": 47,
   "id": "61f1361e",
   "metadata": {},
   "outputs": [
    {
     "name": "stdout",
     "output_type": "stream",
     "text": [
      "Top Student: Bob Grade: 90\n"
     ]
    }
   ],
   "source": [
    "highest_grade = max(course[2])\n",
    "index = course[2].index(highest_grade)\n",
    "print(\"Top Student:\", course[1][index], \"Grade:\", highest_grade)"
   ]
  },
  {
   "cell_type": "code",
   "execution_count": 48,
   "id": "3a6e36c0",
   "metadata": {},
   "outputs": [
    {
     "name": "stdout",
     "output_type": "stream",
     "text": [
      "Updated grade for Bob: 95\n"
     ]
    }
   ],
   "source": [
    "student_name = \"Bob\"\n",
    "if student_name in course[1]:\n",
    "    i = course[1].index(student_name)\n",
    "    course[2][i] = 95\n",
    "    print(f\"Updated grade for {student_name}:\", course[2][i])\n"
   ]
  },
  {
   "cell_type": "code",
   "execution_count": 49,
   "id": "9a6cb151",
   "metadata": {},
   "outputs": [],
   "source": [
    "students = [(\"Alice\", 20, 88), (\"Bob\", 25, 92), (\"Charlie\", 22, 76), (\"David\", 18, 90)]"
   ]
  },
  {
   "cell_type": "code",
   "execution_count": 50,
   "id": "c4e6f30b",
   "metadata": {},
   "outputs": [
    {
     "name": "stdout",
     "output_type": "stream",
     "text": [
      "All Students:\n",
      "('Alice', 20, 88)\n",
      "('Bob', 25, 92)\n",
      "('Charlie', 22, 76)\n",
      "('David', 18, 90)\n"
     ]
    }
   ],
   "source": [
    "print(\"All Students:\")\n",
    "for s in students:\n",
    "    print(s)"
   ]
  },
  {
   "cell_type": "code",
   "execution_count": 51,
   "id": "2c6943d5",
   "metadata": {},
   "outputs": [
    {
     "name": "stdout",
     "output_type": "stream",
     "text": [
      "Students older than 21:\n",
      "('Bob', 25, 92)\n",
      "('Charlie', 22, 76)\n"
     ]
    }
   ],
   "source": [
    "filtered = [s for s in students if s[1] > 21]\n",
    "print(\"Students older than 21:\")\n",
    "for s in filtered:\n",
    "    print(s)\n"
   ]
  },
  {
   "cell_type": "code",
   "execution_count": 52,
   "id": "bf119ffb",
   "metadata": {},
   "outputs": [],
   "source": [
    "employees = [(\"Alice\", 200, 40), (\"Bob\", 180, 45), (\"Charlie\", 220, 38)]"
   ]
  },
  {
   "cell_type": "code",
   "execution_count": 53,
   "id": "4e1c3005",
   "metadata": {},
   "outputs": [
    {
     "name": "stdout",
     "output_type": "stream",
     "text": [
      "Alice's Total Salary: ₹8000\n",
      "Bob's Total Salary: ₹8100\n",
      "Charlie's Total Salary: ₹8360\n"
     ]
    }
   ],
   "source": [
    "salaries = [(name, rate * hours) for (name, rate, hours) in employees]\n",
    "for name, total in salaries:\n",
    "    print(f\"{name}'s Total Salary: ₹{total}\")"
   ]
  },
  {
   "cell_type": "code",
   "execution_count": 54,
   "id": "3a0d2405",
   "metadata": {},
   "outputs": [
    {
     "name": "stdout",
     "output_type": "stream",
     "text": [
      "Highest Paid: Charlie with ₹ 8360\n"
     ]
    }
   ],
   "source": [
    "highest = max(salaries, key=lambda x: x[1])\n",
    "print(\"Highest Paid:\", highest[0], \"with ₹\", highest[1])"
   ]
  },
  {
   "cell_type": "code",
   "execution_count": 55,
   "id": "7811aea5",
   "metadata": {},
   "outputs": [
    {
     "name": "stdout",
     "output_type": "stream",
     "text": [
      "Average Salary: 8153.333333333333\n"
     ]
    }
   ],
   "source": [
    "avg_salary = sum(s[1] for s in salaries) / len(salaries)\n",
    "print(\"Average Salary:\", avg_salary)"
   ]
  },
  {
   "cell_type": "code",
   "execution_count": 56,
   "id": "9d1bff5f",
   "metadata": {},
   "outputs": [],
   "source": [
    "grades = {\n",
    "    \"Alice\": (90, 85, 88),\n",
    "    \"Bob\": (78, 82, 80),\n",
    "    \"Charlie\": (95, 91, 89)\n",
    "}"
   ]
  },
  {
   "cell_type": "code",
   "execution_count": 57,
   "id": "ab729104",
   "metadata": {},
   "outputs": [
    {
     "name": "stdout",
     "output_type": "stream",
     "text": [
      "Student Averages:\n",
      "Alice -> 87.66666666666667\n",
      "Bob -> 80.0\n",
      "Charlie -> 91.66666666666667\n"
     ]
    }
   ],
   "source": [
    "student_averages = {name: sum(scores) / len(scores) for name, scores in grades.items()}\n",
    "print(\"Student Averages:\")\n",
    "for name, avg in student_averages.items():\n",
    "    print(name, \"->\", avg)\n"
   ]
  },
  {
   "cell_type": "code",
   "execution_count": 58,
   "id": "c9a5cd76",
   "metadata": {},
   "outputs": [
    {
     "name": "stdout",
     "output_type": "stream",
     "text": [
      "Top Student: Charlie with average: 91.66666666666667\n"
     ]
    }
   ],
   "source": [
    "top_student = max(student_averages.items(), key=lambda x: x[1])\n",
    "print(\"Top Student:\", top_student[0], \"with average:\", top_student[1])"
   ]
  },
  {
   "cell_type": "code",
   "execution_count": 59,
   "id": "a3d081de",
   "metadata": {},
   "outputs": [
    {
     "name": "stdout",
     "output_type": "stream",
     "text": [
      "Subject Averages: Math, Science, English = [87.66666666666667, 86.0, 85.66666666666667]\n"
     ]
    }
   ],
   "source": [
    "subjects = list(zip(*grades.values()))  # Transpose\n",
    "subject_averages = [sum(sub)/len(sub) for sub in subjects]\n",
    "print(\"Subject Averages: Math, Science, English =\", subject_averages)"
   ]
  },
  {
   "cell_type": "code",
   "execution_count": null,
   "id": "f7850a1e",
   "metadata": {},
   "outputs": [],
   "source": []
  }
 ],
 "metadata": {
  "kernelspec": {
   "display_name": "base",
   "language": "python",
   "name": "python3"
  },
  "language_info": {
   "codemirror_mode": {
    "name": "ipython",
    "version": 3
   },
   "file_extension": ".py",
   "mimetype": "text/x-python",
   "name": "python",
   "nbconvert_exporter": "python",
   "pygments_lexer": "ipython3",
   "version": "3.12.7"
  }
 },
 "nbformat": 4,
 "nbformat_minor": 5
}
