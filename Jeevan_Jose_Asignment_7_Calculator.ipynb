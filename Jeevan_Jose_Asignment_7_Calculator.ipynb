{
 "cells": [
  {
   "cell_type": "code",
   "execution_count": 1,
   "id": "c41d97e0",
   "metadata": {},
   "outputs": [],
   "source": [
    "import tkinter as tk"
   ]
  },
  {
   "cell_type": "code",
   "execution_count": 1,
   "id": "2fadfa69",
   "metadata": {},
   "outputs": [],
   "source": [
    "import tkinter as tk\n",
    "\n",
    "def click(event):\n",
    "    try:\n",
    "        text = event.widget.cget(\"text\")\n",
    "        if text == \"=\":\n",
    "            result = str(eval(str(entry.get())))\n",
    "            entry.delete(0, tk.END)\n",
    "            entry.insert(tk.END, result)\n",
    "        elif text == \"C\":\n",
    "            entry.delete(0, tk.END)\n",
    "        else:\n",
    "            entry.insert(tk.END, text)\n",
    "    except Exception as e:\n",
    "        entry.delete(0, tk.END)\n",
    "        entry.insert(tk.END, \"Error\")\n",
    "\n",
    "root = tk.Tk()\n",
    "root.geometry(\"300x400\")\n",
    "root.title(\"Calculator\")\n",
    "\n",
    "entry = tk.Entry(root, font=\"Arial 20\")\n",
    "entry.pack(fill=tk.BOTH, ipadx=8)\n",
    "\n",
    "button_text = [\n",
    "    [\"7\", \"8\", \"9\", \"/\"],\n",
    "    [\"4\", \"5\", \"6\", \"*\"],\n",
    "    [\"1\", \"2\", \"3\", \"-\"],\n",
    "    [\"C\", \"0\", \"=\", \"+\"]\n",
    "]\n",
    "\n",
    "for row in button_text:\n",
    "    frame = tk.Frame(root)\n",
    "    frame.pack()\n",
    "    for btn in row:\n",
    "        b = tk.Button(frame, text=btn, font=\"Arial 18\", width=5, height=2)\n",
    "        b.pack(side=tk.LEFT, padx=2, pady=2)\n",
    "        b.bind(\"<Button-1>\", click)\n",
    "\n",
    "root.mainloop()\n"
   ]
  },
  {
   "cell_type": "code",
   "execution_count": null,
   "id": "40b5266c",
   "metadata": {},
   "outputs": [],
   "source": []
  }
 ],
 "metadata": {
  "kernelspec": {
   "display_name": "base",
   "language": "python",
   "name": "python3"
  },
  "language_info": {
   "codemirror_mode": {
    "name": "ipython",
    "version": 3
   },
   "file_extension": ".py",
   "mimetype": "text/x-python",
   "name": "python",
   "nbconvert_exporter": "python",
   "pygments_lexer": "ipython3",
   "version": "3.12.7"
  }
 },
 "nbformat": 4,
 "nbformat_minor": 5
}
