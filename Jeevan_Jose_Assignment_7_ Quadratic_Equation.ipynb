{
 "cells": [
  {
   "cell_type": "code",
   "execution_count": 1,
   "id": "b51f80fd",
   "metadata": {},
   "outputs": [],
   "source": [
    "import cmath"
   ]
  },
  {
   "cell_type": "code",
   "execution_count": null,
   "id": "d2e338c9",
   "metadata": {},
   "outputs": [],
   "source": []
  },
  {
   "cell_type": "code",
   "execution_count": 3,
   "id": "e1901109",
   "metadata": {},
   "outputs": [
    {
     "name": "stdout",
     "output_type": "stream",
     "text": [
      "the roots of the equation are: (2+0j) and (1+0j)\n"
     ]
    }
   ],
   "source": [
    "class QuadraticEquation:\n",
    "    def __init__(self,a,b,c):\n",
    "        if a == 0:\n",
    "            raise ValueError(\"Coefficiant 'a' cannot be zero in a quadratic equation\" )\n",
    "        self.a = a\n",
    "        self.b = b\n",
    "        self.c = c\n",
    "    def calculate_roots(self):\n",
    "        discriminant = self.b**2 - 4*self.a*self.c\n",
    "        root1 = (-self.b + cmath.sqrt(discriminant)) / (2*self.a)\n",
    "        root2 = (-self.b - cmath.sqrt(discriminant)) / (2*self.a)\n",
    "        return root1, root2\n",
    "try:\n",
    "    a = float(input(\"Enter a coefficiant a: \"))\n",
    "    b = float(input(\"Enter a coeffocoant b: \"))\n",
    "    c = float(input(\"Enter a coefficiant c: \"))\n",
    "\n",
    "    equation = QuadraticEquation(a,b,c)\n",
    "    root1, root2 = equation.calculate_roots()\n",
    "\n",
    "    print(f\"the roots of the equation are: {root1} and {root2}\")\n",
    "\n",
    "except ValueError as e:\n",
    "    print(f\"input error: {e}\")\n",
    "except Exception as e:\n",
    "    print(f\"something went wrong: {e}\")"
   ]
  },
  {
   "cell_type": "code",
   "execution_count": null,
   "id": "9f6bc8be",
   "metadata": {},
   "outputs": [],
   "source": []
  }
 ],
 "metadata": {
  "kernelspec": {
   "display_name": "base",
   "language": "python",
   "name": "python3"
  },
  "language_info": {
   "codemirror_mode": {
    "name": "ipython",
    "version": 3
   },
   "file_extension": ".py",
   "mimetype": "text/x-python",
   "name": "python",
   "nbconvert_exporter": "python",
   "pygments_lexer": "ipython3",
   "version": "3.12.7"
  }
 },
 "nbformat": 4,
 "nbformat_minor": 5
}
